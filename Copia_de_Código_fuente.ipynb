{
  "nbformat": 4,
  "nbformat_minor": 0,
  "metadata": {
    "colab": {
      "provenance": []
    },
    "kernelspec": {
      "name": "python3",
      "display_name": "Python 3"
    },
    "language_info": {
      "name": "python"
    }
  },
  "cells": [
    {
      "cell_type": "code",
      "execution_count": null,
      "metadata": {
        "colab": {
          "base_uri": "https://localhost:8080/"
        },
        "id": "1_oF1vk8_85f",
        "outputId": "1686bce6-145f-4119-f99d-11976222da51"
      },
      "outputs": [
        {
          "output_type": "stream",
          "name": "stdout",
          "text": [
            "\u001b[2K     \u001b[90m━━━━━━━━━━━━━━━━━━━━━━━━━━━━━━━━━━━━━━━━\u001b[0m \u001b[32m44.3/44.3 kB\u001b[0m \u001b[31m1.6 MB/s\u001b[0m eta \u001b[36m0:00:00\u001b[0m\n",
            "\u001b[2K   \u001b[90m━━━━━━━━━━━━━━━━━━━━━━━━━━━━━━━━━━━━━━━━\u001b[0m \u001b[32m9.9/9.9 MB\u001b[0m \u001b[31m59.4 MB/s\u001b[0m eta \u001b[36m0:00:00\u001b[0m\n",
            "\u001b[2K   \u001b[90m━━━━━━━━━━━━━━━━━━━━━━━━━━━━━━━━━━━━━━━━\u001b[0m \u001b[32m6.9/6.9 MB\u001b[0m \u001b[31m111.4 MB/s\u001b[0m eta \u001b[36m0:00:00\u001b[0m\n",
            "\u001b[2K   \u001b[90m━━━━━━━━━━━━━━━━━━━━━━━━━━━━━━━━━━━━━━━━\u001b[0m \u001b[32m79.1/79.1 kB\u001b[0m \u001b[31m7.9 MB/s\u001b[0m eta \u001b[36m0:00:00\u001b[0m\n",
            "\u001b[?25h"
          ]
        }
      ],
      "source": [
        "!pip install -q streamlit"
      ]
    },
    {
      "cell_type": "code",
      "source": [
        "%%writefile app.py\n",
        "import streamlit as st\n",
        "\n",
        "x = st.slider('Select a value')\n",
        "st.write(x, 'squared is', x * x)"
      ],
      "metadata": {
        "colab": {
          "base_uri": "https://localhost:8080/"
        },
        "id": "N5ZGJkhnB7ov",
        "outputId": "d0e4f9d8-71de-4ef9-bae2-8e366999256d"
      },
      "execution_count": null,
      "outputs": [
        {
          "output_type": "stream",
          "name": "stdout",
          "text": [
            "Writing app.py\n"
          ]
        }
      ]
    },
    {
      "cell_type": "code",
      "source": [
        "!npm install localtunnel"
      ],
      "metadata": {
        "colab": {
          "base_uri": "https://localhost:8080/"
        },
        "id": "KhESdt7WCCtM",
        "outputId": "7bf7f2cb-7ed7-460e-b913-eec008157ce6"
      },
      "execution_count": null,
      "outputs": [
        {
          "output_type": "stream",
          "name": "stdout",
          "text": [
            "\u001b[1G\u001b[0K⠙\u001b[1G\u001b[0K⠹\u001b[1G\u001b[0K⠸\u001b[1G\u001b[0K⠼\u001b[1G\u001b[0K⠴\u001b[1G\u001b[0K⠦\u001b[1G\u001b[0K⠧\u001b[1G\u001b[0K⠇\u001b[1G\u001b[0K⠏\u001b[1G\u001b[0K⠋\u001b[1G\u001b[0K⠙\u001b[1G\u001b[0K⠹\u001b[1G\u001b[0K⠸\u001b[1G\u001b[0K⠼\u001b[1G\u001b[0K⠴\u001b[1G\u001b[0K⠦\u001b[1G\u001b[0K⠧\u001b[1G\u001b[0K⠇\u001b[1G\u001b[0K⠏\u001b[1G\u001b[0K⠋\u001b[1G\u001b[0K⠙\u001b[1G\u001b[0K⠹\u001b[1G\u001b[0K\n",
            "added 22 packages in 2s\n",
            "\u001b[1G\u001b[0K⠹\u001b[1G\u001b[0K\n",
            "\u001b[1G\u001b[0K⠹\u001b[1G\u001b[0K3 packages are looking for funding\n",
            "\u001b[1G\u001b[0K⠹\u001b[1G\u001b[0K  run `npm fund` for details\n",
            "\u001b[1G\u001b[0K⠹\u001b[1G\u001b[0K"
          ]
        }
      ]
    },
    {
      "cell_type": "code",
      "source": [
        "!streamlit run /content/app.py &>/content/logs.txt &"
      ],
      "metadata": {
        "id": "XL-6Q2mjCIp8"
      },
      "execution_count": null,
      "outputs": []
    },
    {
      "cell_type": "code",
      "source": [
        "!npx localtunnel --port 8501"
      ],
      "metadata": {
        "colab": {
          "base_uri": "https://localhost:8080/"
        },
        "id": "dSnaWOROCNs-",
        "outputId": "6bfc8196-dceb-487d-8e1c-b29291790555"
      },
      "execution_count": null,
      "outputs": [
        {
          "output_type": "stream",
          "name": "stdout",
          "text": [
            "\u001b[1G\u001b[0K⠙\u001b[1G\u001b[0Kyour url is: https://fast-icons-unite.loca.lt\n"
          ]
        }
      ]
    },
    {
      "cell_type": "code",
      "source": [
        "import streamlit as st\n",
        "import json\n",
        "from datetime import datetime, timedelta\n",
        "import smtplib\n",
        "import random\n",
        "from email.mime.text import MIMEText\n",
        "from email.mime.multipart import MIMEMultipart\n",
        "from typing import List, Dict\n",
        "\n",
        "# Constants\n",
        "DATA_FILE = 'birthdays.json'\n",
        "MESSAGES_FILE = 'messages.json'\n",
        "\n",
        "# Models\n",
        "class Person:\n",
        "    def __init__(self, name: str, email: str, birthday: str, message_id: int = None):\n",
        "        self.name = name\n",
        "        self.email = email\n",
        "        self.birthday = datetime.strptime(birthday, '%Y-%m-%d').date()\n",
        "        self.message_id = message_id\n",
        "\n",
        "    def to_dict(self):\n",
        "        return {\n",
        "            'name': self.name,\n",
        "            'email': self.email,\n",
        "            'birthday': self.birthday.strftime('%Y-%m-%d'),\n",
        "            'message_id': self.message_id\n",
        "        }\n",
        "\n",
        "    @staticmethod\n",
        "    def from_dict(data):\n",
        "        return Person(\n",
        "            name=data['name'],\n",
        "            email=data['email'],\n",
        "            birthday=data['birthday'],\n",
        "            message_id=data.get('message_id')\n",
        "        )\n",
        "\n",
        "class MessageManager:\n",
        "    def __init__(self):\n",
        "        self.messages = self.load_messages()\n",
        "\n",
        "    def load_messages(self) -> List[str]:\n",
        "        try:\n",
        "            with open(MESSAGES_FILE, 'r') as f:\n",
        "                return json.load(f)\n",
        "        except FileNotFoundError:\n",
        "            return []\n",
        "\n",
        "    def save_messages(self):\n",
        "        with open(MESSAGES_FILE, 'w') as f:\n",
        "            json.dump(self.messages, f)\n",
        "\n",
        "    def add_message(self, message: str):\n",
        "        self.messages.append(message)\n",
        "        self.save_messages()\n",
        "\n",
        "    def get_message(self, index: int = None) -> str:\n",
        "        if index is not None and 0 <= index < len(self.messages):\n",
        "            return self.messages[index]\n",
        "        return random.choice(self.messages) if self.messages else \"Feliz cumpleaños!\"\n",
        "\n",
        "class BirthdayManager:\n",
        "    def __init__(self):\n",
        "        self.people: List[Person] = self.load_birthdays()\n",
        "\n",
        "    def load_birthdays(self) -> List[Person]:\n",
        "        try:\n",
        "            with open(DATA_FILE, 'r') as f:\n",
        "                data = json.load(f)\n",
        "                return [Person.from_dict(person) for person in data]\n",
        "        except FileNotFoundError:\n",
        "            return []\n",
        "\n",
        "    def save_birthdays(self):\n",
        "        with open(DATA_FILE, 'w') as f:\n",
        "            json.dump([person.to_dict() for person in self.people], f)\n",
        "\n",
        "    def add_person(self, person: Person):\n",
        "        self.people.append(person)\n",
        "        self.save_birthdays()\n",
        "\n",
        "    def get_upcoming_birthdays(self) -> List[Dict]:\n",
        "        today = datetime.now().date()\n",
        "        upcoming = []\n",
        "        for person in self.people:\n",
        "            bday = person.birthday.replace(year=today.year)\n",
        "            if bday < today:\n",
        "                bday = bday.replace(year=today.year + 1)\n",
        "            days_remaining = (bday - today).days\n",
        "            upcoming.append({\n",
        "                'name': person.name,\n",
        "                'email': person.email,\n",
        "                'days_remaining': days_remaining,\n",
        "                'birthday': bday,\n",
        "                'message_id': person.message_id\n",
        "            })\n",
        "        return sorted(upcoming, key=lambda x: x['days_remaining'])\n",
        "\n",
        "# Email sender (configure your SMTP credentials)\n",
        "def send_email(to_email: str, subject: str, body: str):\n",
        "    from_email = 'youremail@example.com'\n",
        "    password = 'yourpassword'\n",
        "    msg = MIMEMultipart()\n",
        "    msg['From'] = from_email\n",
        "    msg['To'] = to_email\n",
        "    msg['Subject'] = subject\n",
        "\n",
        "    msg.attach(MIMEText(body, 'plain'))\n",
        "\n",
        "    with smtplib.SMTP('smtp.example.com', 587) as server:\n",
        "        server.starttls()\n",
        "        server.login(from_email, password)\n",
        "        server.send_message(msg)\n",
        "\n",
        "# Streamlit UI\n",
        "st.title(\"Gestor de Cumpleaños 🎉\")\n",
        "bd_manager = BirthdayManager()\n",
        "msg_manager = MessageManager()\n",
        "\n",
        "st.header(\"🎂 Próximos Cumpleaños\")\n",
        "upcoming = bd_manager.get_upcoming_birthdays()\n",
        "for person in upcoming:\n",
        "    st.write(f\"{person['name']} ({person['email']}) - Cumpleaños en {person['days_remaining']} días\")\n",
        "\n",
        "st.header(\"➕ Registrar nuevo cumpleaños\")\n",
        "name = st.text_input(\"Nombre\")\n",
        "email = st.text_input(\"Correo electrónico\")\n",
        "birthday = st.date_input(\"Fecha de cumpleaños\")\n",
        "message_option = st.selectbox(\"Mensaje personalizado\", [\"Aleatorio\"] + [f\"Mensaje {i+1}\" for i in range(len(msg_manager.messages))])\n",
        "\n",
        "if st.button(\"Guardar cumpleaños\"):\n",
        "    message_id = None if message_option == \"Aleatorio\" else int(message_option.split()[1]) - 1\n",
        "    bd_manager.add_person(Person(name, email, birthday.strftime('%Y-%m-%d'), message_id))\n",
        "    st.success(\"Cumpleaños registrado correctamente!\")\n",
        "\n",
        "st.header(\"✏️ Administrar mensajes de felicitación\")\n",
        "new_message = st.text_area(\"Nuevo mensaje de felicitación\")\n",
        "if st.button(\"Agregar mensaje\"):\n",
        "    msg_manager.add_message(new_message)\n",
        "    st.success(\"Mensaje agregado correctamente\")\n",
        "\n",
        "st.subheader(\"Mensajes guardados:\")\n",
        "for idx, msg in enumerate(msg_manager.messages):\n",
        "    st.markdown(f\"**Mensaje {idx+1}:** {msg}\")\n",
        "\n",
        "# Auto email sender simulation\n",
        "st.header(\"✉️ Simulación de envío de felicitaciones\")\n",
        "today = datetime.now().date()\n",
        "for person in bd_manager.people:\n",
        "    if person.birthday.month == today.month and person.birthday.day == today.day:\n",
        "        message = msg_manager.get_message(person.message_id)\n",
        "        send_email(person.email, \"¡Feliz cumpleaños!\", message)\n",
        "        st.info(f\"Correo enviado a {person.name} ({person.email})\")"
      ],
      "metadata": {
        "id": "X6CvWqrdBo-I"
      },
      "execution_count": null,
      "outputs": []
    }
  ]
}